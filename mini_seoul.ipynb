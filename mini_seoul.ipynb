{
 "cells": [
  {
   "cell_type": "code",
   "execution_count": 1,
   "id": "a9be66aa-2194-4f27-9653-f69a406f32fa",
   "metadata": {},
   "outputs": [],
   "source": [
    "import findspark\n",
    "findspark.find()\n",
    "\n",
    "from pyspark import SparkContext, SparkConf\n",
    "from pyspark.sql import SparkSession\n",
    "\n",
    "spark = SparkSession.builder.master('local').appName('Spark') \\\n",
    "        .config('spark.sql.repl.eagerEval.enabled', True).getOrCreate()"
   ]
  },
  {
   "cell_type": "code",
   "execution_count": 2,
   "id": "351a4155-79e2-4230-a129-78cfab6ca172",
   "metadata": {},
   "outputs": [
    {
     "name": "stdout",
     "output_type": "stream",
     "text": [
      "+-----------+-----------+-------------+-------------+-------------+\n",
      "|자치구별(1)|자치구별(2)|        20222|        20223|        20224|\n",
      "+-----------+-----------+-------------+-------------+-------------+\n",
      "|자치구별(1)|자치구별(2)|발생건수 (건)|사망자수 (명)|부상자수 (명)|\n",
      "|     서울시|       소계|         2348|           23|         3904|\n",
      "|     서울시|     종로구|           56|            -|           87|\n",
      "|     서울시|       중구|           45|            -|           73|\n",
      "|     서울시|     용산구|           94|            3|          148|\n",
      "|     서울시|     성동구|           71|            1|          105|\n",
      "|     서울시|     광진구|           66|            -|          128|\n",
      "|     서울시|   동대문구|           58|            -|           77|\n",
      "|     서울시|     중랑구|           60|            1|          109|\n",
      "|     서울시|     성북구|           59|            -|           90|\n",
      "|     서울시|     강북구|           42|            -|           68|\n",
      "|     서울시|     도봉구|           40|            -|           69|\n",
      "|     서울시|     노원구|           93|            2|          149|\n",
      "|     서울시|     은평구|           69|            1|          118|\n",
      "|     서울시|   서대문구|           56|            -|           86|\n",
      "|     서울시|     마포구|          119|            -|          208|\n",
      "|     서울시|     양천구|           68|            -|          123|\n",
      "|     서울시|     강서구|          137|            3|          227|\n",
      "|     서울시|     구로구|           83|            -|          148|\n",
      "|     서울시|     금천구|           72|            -|          131|\n",
      "+-----------+-----------+-------------+-------------+-------------+\n",
      "only showing top 20 rows\n",
      "\n"
     ]
    }
   ],
   "source": [
    "# 데이터 불러오기 - 음주운전 교통사고 데이터\n",
    "raw_df = spark.read.csv('음주운전사고현황_2022서울.csv', header = True, encoding = 'utf-8')\n",
    "raw_df.show()"
   ]
  },
  {
   "cell_type": "code",
   "execution_count": 3,
   "id": "e4ffe816-e9cd-490e-917c-581fa9390f53",
   "metadata": {},
   "outputs": [
    {
     "name": "stdout",
     "output_type": "stream",
     "text": [
      "Row count : 27\n",
      "Column count : 5\n"
     ]
    }
   ],
   "source": [
    "print(f'Row count : {raw_df.count()}')\n",
    "print(f'Column count : {len(raw_df.columns)}')"
   ]
  },
  {
   "cell_type": "code",
   "execution_count": null,
   "id": "c42934b6-f03d-4be3-a90e-698fea9aaa1e",
   "metadata": {},
   "outputs": [],
   "source": []
  },
  {
   "cell_type": "markdown",
   "id": "eaa6bfeb-161c-46c5-850a-64f27747f35d",
   "metadata": {},
   "source": [
    "#### **데이터 전처리**"
   ]
  },
  {
   "cell_type": "code",
   "execution_count": 4,
   "id": "14934d0e-9b29-4f33-8ac8-9cce40efd8ff",
   "metadata": {},
   "outputs": [
    {
     "name": "stdout",
     "output_type": "stream",
     "text": [
      "+-----------+-------------+-------------+-------------+\n",
      "|자치구별(2)|        20222|        20223|        20224|\n",
      "+-----------+-------------+-------------+-------------+\n",
      "|자치구별(2)|발생건수 (건)|사망자수 (명)|부상자수 (명)|\n",
      "|       소계|         2348|           23|         3904|\n",
      "|     종로구|           56|            -|           87|\n",
      "|       중구|           45|            -|           73|\n",
      "|     용산구|           94|            3|          148|\n",
      "|     성동구|           71|            1|          105|\n",
      "|     광진구|           66|            -|          128|\n",
      "|   동대문구|           58|            -|           77|\n",
      "|     중랑구|           60|            1|          109|\n",
      "|     성북구|           59|            -|           90|\n",
      "|     강북구|           42|            -|           68|\n",
      "|     도봉구|           40|            -|           69|\n",
      "|     노원구|           93|            2|          149|\n",
      "|     은평구|           69|            1|          118|\n",
      "|   서대문구|           56|            -|           86|\n",
      "|     마포구|          119|            -|          208|\n",
      "|     양천구|           68|            -|          123|\n",
      "|     강서구|          137|            3|          227|\n",
      "|     구로구|           83|            -|          148|\n",
      "|     금천구|           72|            -|          131|\n",
      "+-----------+-------------+-------------+-------------+\n",
      "only showing top 20 rows\n",
      "\n"
     ]
    }
   ],
   "source": [
    "# 자치구별(1) 컬럼 삭제\n",
    "finalDF = raw_df.drop('자치구별(1)')\n",
    "finalDF.show()"
   ]
  },
  {
   "cell_type": "code",
   "execution_count": 5,
   "id": "df828989-1fb2-46dd-852b-d20d42a6ef3e",
   "metadata": {},
   "outputs": [
    {
     "name": "stdout",
     "output_type": "stream",
     "text": [
      "+-----------+-------------+-------------+-------------+\n",
      "|     region|          cnt|        death|       injury|\n",
      "+-----------+-------------+-------------+-------------+\n",
      "|자치구별(2)|발생건수 (건)|사망자수 (명)|부상자수 (명)|\n",
      "|       소계|         2348|           23|         3904|\n",
      "|     종로구|           56|            -|           87|\n",
      "|       중구|           45|            -|           73|\n",
      "|     용산구|           94|            3|          148|\n",
      "|     성동구|           71|            1|          105|\n",
      "|     광진구|           66|            -|          128|\n",
      "|   동대문구|           58|            -|           77|\n",
      "|     중랑구|           60|            1|          109|\n",
      "|     성북구|           59|            -|           90|\n",
      "|     강북구|           42|            -|           68|\n",
      "|     도봉구|           40|            -|           69|\n",
      "|     노원구|           93|            2|          149|\n",
      "|     은평구|           69|            1|          118|\n",
      "|   서대문구|           56|            -|           86|\n",
      "|     마포구|          119|            -|          208|\n",
      "|     양천구|           68|            -|          123|\n",
      "|     강서구|          137|            3|          227|\n",
      "|     구로구|           83|            -|          148|\n",
      "|     금천구|           72|            -|          131|\n",
      "+-----------+-------------+-------------+-------------+\n",
      "only showing top 20 rows\n",
      "\n"
     ]
    }
   ],
   "source": [
    "# 컬럼명 변경\n",
    "newColumns = ['region','cnt','death','injury']\n",
    "finalDF = finalDF.toDF(*newColumns)\n",
    "finalDF.show()"
   ]
  },
  {
   "cell_type": "code",
   "execution_count": 6,
   "id": "470737d9-86b9-48eb-a187-f4c8689d2d86",
   "metadata": {},
   "outputs": [
    {
     "name": "stdout",
     "output_type": "stream",
     "text": [
      "+--------+----+-----+------+\n",
      "|region  |cnt |death|injury|\n",
      "+--------+----+-----+------+\n",
      "|소계    |2348|23   |3904  |\n",
      "|종로구  |56  |-    |87    |\n",
      "|중구    |45  |-    |73    |\n",
      "|용산구  |94  |3    |148   |\n",
      "|성동구  |71  |1    |105   |\n",
      "|광진구  |66  |-    |128   |\n",
      "|동대문구|58  |-    |77    |\n",
      "|중랑구  |60  |1    |109   |\n",
      "|성북구  |59  |-    |90    |\n",
      "|강북구  |42  |-    |68    |\n",
      "|도봉구  |40  |-    |69    |\n",
      "|노원구  |93  |2    |149   |\n",
      "|은평구  |69  |1    |118   |\n",
      "|서대문구|56  |-    |86    |\n",
      "|마포구  |119 |-    |208   |\n",
      "|양천구  |68  |-    |123   |\n",
      "|강서구  |137 |3    |227   |\n",
      "|구로구  |83  |-    |148   |\n",
      "|금천구  |72  |-    |131   |\n",
      "|영등포구|146 |6    |226   |\n",
      "+--------+----+-----+------+\n",
      "only showing top 20 rows\n",
      "\n"
     ]
    }
   ],
   "source": [
    "# 맨 첫 행 삭제\n",
    "finalDF = finalDF.filter(~(finalDF.region == '자치구별(2)'))\n",
    "finalDF.show(truncate = False)"
   ]
  },
  {
   "cell_type": "code",
   "execution_count": 7,
   "id": "51f177ce-be60-4346-8d91-1895f600557a",
   "metadata": {},
   "outputs": [
    {
     "name": "stdout",
     "output_type": "stream",
     "text": [
      "+--------+---+-----+------+\n",
      "|region  |cnt|death|injury|\n",
      "+--------+---+-----+------+\n",
      "|종로구  |56 |-    |87    |\n",
      "|중구    |45 |-    |73    |\n",
      "|용산구  |94 |3    |148   |\n",
      "|성동구  |71 |1    |105   |\n",
      "|광진구  |66 |-    |128   |\n",
      "|동대문구|58 |-    |77    |\n",
      "|중랑구  |60 |1    |109   |\n",
      "|성북구  |59 |-    |90    |\n",
      "|강북구  |42 |-    |68    |\n",
      "|도봉구  |40 |-    |69    |\n",
      "|노원구  |93 |2    |149   |\n",
      "|은평구  |69 |1    |118   |\n",
      "|서대문구|56 |-    |86    |\n",
      "|마포구  |119|-    |208   |\n",
      "|양천구  |68 |-    |123   |\n",
      "|강서구  |137|3    |227   |\n",
      "|구로구  |83 |-    |148   |\n",
      "|금천구  |72 |-    |131   |\n",
      "|영등포구|146|6    |226   |\n",
      "|동작구  |72 |-    |113   |\n",
      "+--------+---+-----+------+\n",
      "only showing top 20 rows\n",
      "\n"
     ]
    }
   ],
   "source": [
    "# 맨 첫 행 삭제 (2)\n",
    "finalDF = finalDF.filter(~(finalDF.region == '소계'))\n",
    "finalDF.show(truncate = False)"
   ]
  },
  {
   "cell_type": "code",
   "execution_count": 8,
   "id": "9ff448c7-76cb-4fc1-9753-8bd99e093635",
   "metadata": {},
   "outputs": [
    {
     "name": "stdout",
     "output_type": "stream",
     "text": [
      "+--------+---+-----+------+\n",
      "|  region|cnt|death|injury|\n",
      "+--------+---+-----+------+\n",
      "|  종로구| 56|    0|    87|\n",
      "|    중구| 45|    0|    73|\n",
      "|  용산구| 94|    3|   148|\n",
      "|  성동구| 71|    1|   105|\n",
      "|  광진구| 66|    0|   128|\n",
      "|동대문구| 58|    0|    77|\n",
      "|  중랑구| 60|    1|   109|\n",
      "|  성북구| 59|    0|    90|\n",
      "|  강북구| 42|    0|    68|\n",
      "|  도봉구| 40|    0|    69|\n",
      "|  노원구| 93|    2|   149|\n",
      "|  은평구| 69|    1|   118|\n",
      "|서대문구| 56|    0|    86|\n",
      "|  마포구|119|    0|   208|\n",
      "|  양천구| 68|    0|   123|\n",
      "|  강서구|137|    3|   227|\n",
      "|  구로구| 83|    0|   148|\n",
      "|  금천구| 72|    0|   131|\n",
      "|영등포구|146|    6|   226|\n",
      "|  동작구| 72|    0|   113|\n",
      "+--------+---+-----+------+\n",
      "only showing top 20 rows\n",
      "\n"
     ]
    }
   ],
   "source": [
    "# death : -값 -> 0으로 변경\n",
    "finalDF = finalDF.na.replace(\"-\", \"0\")\n",
    "finalDF.show()"
   ]
  },
  {
   "cell_type": "code",
   "execution_count": 9,
   "id": "373f26e9-43d4-4b75-bc4b-114a8b94c93a",
   "metadata": {},
   "outputs": [
    {
     "name": "stdout",
     "output_type": "stream",
     "text": [
      "root\n",
      " |-- region: string (nullable = true)\n",
      " |-- cnt: string (nullable = true)\n",
      " |-- death: string (nullable = true)\n",
      " |-- injury: string (nullable = true)\n",
      "\n"
     ]
    }
   ],
   "source": [
    "# 스키마 확인\n",
    "finalDF.printSchema()"
   ]
  },
  {
   "cell_type": "code",
   "execution_count": 10,
   "id": "e872a63e-f0ae-4e80-9364-4ea6aaaf48f0",
   "metadata": {},
   "outputs": [
    {
     "name": "stdout",
     "output_type": "stream",
     "text": [
      "root\n",
      " |-- region: string (nullable = true)\n",
      " |-- cnt: integer (nullable = true)\n",
      " |-- death: integer (nullable = true)\n",
      " |-- injury: integer (nullable = true)\n",
      "\n"
     ]
    }
   ],
   "source": [
    "# 타입 변경\n",
    "finalDF = finalDF.select(finalDF.region, finalDF.cnt.cast('int'), finalDF.death.cast('int'), finalDF.injury.cast('int'))\n",
    "finalDF.printSchema()"
   ]
  },
  {
   "cell_type": "code",
   "execution_count": 11,
   "id": "76cdeb95-77ac-456b-a1e9-bf128cf5a9a4",
   "metadata": {},
   "outputs": [
    {
     "name": "stdout",
     "output_type": "stream",
     "text": [
      "Row count : 25\n",
      "Column count : 4\n"
     ]
    }
   ],
   "source": [
    "print(f'Row count : {finalDF.count()}')\n",
    "print(f'Column count : {len(finalDF.columns)}')"
   ]
  },
  {
   "cell_type": "code",
   "execution_count": 12,
   "id": "a9d69dfd-9e4a-427e-875c-55c816f630d1",
   "metadata": {},
   "outputs": [
    {
     "name": "stdout",
     "output_type": "stream",
     "text": [
      "+-------+------+-----------------+------------------+-----------------+\n",
      "|summary|region|cnt              |death             |injury           |\n",
      "+-------+------+-----------------+------------------+-----------------+\n",
      "|count  |25    |25               |25                |25               |\n",
      "|mean   |null  |93.92            |0.92              |156.16           |\n",
      "|stddev |null  |67.06148919710427|1.4118545723031581|111.3211121036796|\n",
      "|min    |강남구|40               |0                 |68               |\n",
      "|max    |중랑구|368              |6                 |601              |\n",
      "+-------+------+-----------------+------------------+-----------------+\n",
      "\n"
     ]
    }
   ],
   "source": [
    "# 요약 정보\n",
    "finalDF.describe().show(truncate = False)"
   ]
  },
  {
   "cell_type": "code",
   "execution_count": 16,
   "id": "e1fe5977-c833-42eb-b96e-d3eec649fd49",
   "metadata": {},
   "outputs": [
    {
     "name": "stdout",
     "output_type": "stream",
     "text": [
      "+--------+---+-----+------+\n",
      "|  region|cnt|death|injury|\n",
      "+--------+---+-----+------+\n",
      "|  도봉구| 40|    0|    69|\n",
      "|  강북구| 42|    0|    68|\n",
      "|    중구| 45|    0|    73|\n",
      "|  종로구| 56|    0|    87|\n",
      "|서대문구| 56|    0|    86|\n",
      "|동대문구| 58|    0|    77|\n",
      "|  성북구| 59|    0|    90|\n",
      "|  중랑구| 60|    1|   109|\n",
      "|  광진구| 66|    0|   128|\n",
      "|  양천구| 68|    0|   123|\n",
      "|  은평구| 69|    1|   118|\n",
      "|  성동구| 71|    1|   105|\n",
      "|  금천구| 72|    0|   131|\n",
      "|  동작구| 72|    0|   113|\n",
      "|  관악구| 72|    1|   115|\n",
      "|  강동구| 82|    2|   144|\n",
      "|  구로구| 83|    0|   148|\n",
      "|  노원구| 93|    2|   149|\n",
      "|  용산구| 94|    3|   148|\n",
      "|  마포구|119|    0|   208|\n",
      "+--------+---+-----+------+\n",
      "only showing top 20 rows\n",
      "\n"
     ]
    }
   ],
   "source": [
    "finalDF.sort(finalDF.cnt).show()"
   ]
  },
  {
   "cell_type": "code",
   "execution_count": 15,
   "id": "4e5deb51-6eef-4294-a1ef-d1c87eb69157",
   "metadata": {},
   "outputs": [
    {
     "name": "stdout",
     "output_type": "stream",
     "text": [
      "+--------+---+-----+------+\n",
      "|  region|cnt|death|injury|\n",
      "+--------+---+-----+------+\n",
      "|  강남구|368|    1|   601|\n",
      "|  서초구|165|    1|   299|\n",
      "|  송파구|155|    1|   262|\n",
      "|영등포구|146|    6|   226|\n",
      "|  강서구|137|    3|   227|\n",
      "|  마포구|119|    0|   208|\n",
      "|  용산구| 94|    3|   148|\n",
      "|  노원구| 93|    2|   149|\n",
      "|  구로구| 83|    0|   148|\n",
      "|  강동구| 82|    2|   144|\n",
      "|  금천구| 72|    0|   131|\n",
      "|  동작구| 72|    0|   113|\n",
      "|  관악구| 72|    1|   115|\n",
      "|  성동구| 71|    1|   105|\n",
      "|  은평구| 69|    1|   118|\n",
      "|  양천구| 68|    0|   123|\n",
      "|  광진구| 66|    0|   128|\n",
      "|  중랑구| 60|    1|   109|\n",
      "|  성북구| 59|    0|    90|\n",
      "|동대문구| 58|    0|    77|\n",
      "+--------+---+-----+------+\n",
      "only showing top 20 rows\n",
      "\n"
     ]
    }
   ],
   "source": [
    "# 사고건수 기준으로 내림차순 정렬\n",
    "finalDF.sort(finalDF.cnt.desc()).show()"
   ]
  },
  {
   "cell_type": "code",
   "execution_count": 17,
   "id": "8a930512-2961-4211-bfd5-97019a1080b1",
   "metadata": {},
   "outputs": [
    {
     "name": "stdout",
     "output_type": "stream",
     "text": [
      "+-----------------------+\n",
      "|음주운전 사고 최대 건수|\n",
      "+-----------------------+\n",
      "|                    368|\n",
      "+-----------------------+\n",
      "\n"
     ]
    }
   ],
   "source": [
    "from pyspark.sql.functions import max\n",
    "finalDF.select(max(finalDF.cnt).alias('음주운전 사고 최대 건수')).show()"
   ]
  },
  {
   "cell_type": "code",
   "execution_count": 18,
   "id": "7889d9bd-68c4-4b42-a98f-7805bf9d25f8",
   "metadata": {},
   "outputs": [
    {
     "name": "stdout",
     "output_type": "stream",
     "text": [
      "+------+---+-----+------+\n",
      "|region|cnt|death|injury|\n",
      "+------+---+-----+------+\n",
      "|강남구|368|    1|   601|\n",
      "+------+---+-----+------+\n",
      "\n"
     ]
    }
   ],
   "source": [
    "finalDF.filter(finalDF.cnt == 368).show()"
   ]
  },
  {
   "cell_type": "code",
   "execution_count": 19,
   "id": "1f1eab84-83de-42e5-b8a0-57215580a24f",
   "metadata": {},
   "outputs": [
    {
     "name": "stdout",
     "output_type": "stream",
     "text": [
      "+-----------------------+\n",
      "|음주운전 사고 최소 건수|\n",
      "+-----------------------+\n",
      "|                     40|\n",
      "+-----------------------+\n",
      "\n"
     ]
    }
   ],
   "source": [
    "from pyspark.sql.functions import min\n",
    "finalDF.select(min(finalDF.cnt).alias('음주운전 사고 최소 건수')).show()"
   ]
  },
  {
   "cell_type": "code",
   "execution_count": 20,
   "id": "dff119aa-8989-4bf9-aafe-f90829f96e1a",
   "metadata": {},
   "outputs": [
    {
     "name": "stdout",
     "output_type": "stream",
     "text": [
      "+------+---+-----+------+\n",
      "|region|cnt|death|injury|\n",
      "+------+---+-----+------+\n",
      "|도봉구| 40|    0|    69|\n",
      "+------+---+-----+------+\n",
      "\n"
     ]
    }
   ],
   "source": [
    "finalDF.filter(finalDF.cnt == 40).show()"
   ]
  },
  {
   "cell_type": "code",
   "execution_count": 21,
   "id": "d06fb291-f630-42a8-a417-22f556d70d98",
   "metadata": {},
   "outputs": [
    {
     "name": "stdout",
     "output_type": "stream",
     "text": [
      "+--------+---+-----+------+\n",
      "|  region|cnt|death|injury|\n",
      "+--------+---+-----+------+\n",
      "|  용산구| 94|    3|   148|\n",
      "|  마포구|119|    0|   208|\n",
      "|  강서구|137|    3|   227|\n",
      "|영등포구|146|    6|   226|\n",
      "|  서초구|165|    1|   299|\n",
      "|  강남구|368|    1|   601|\n",
      "|  송파구|155|    1|   262|\n",
      "+--------+---+-----+------+\n",
      "\n"
     ]
    }
   ],
   "source": [
    "# filter 함수로 사고건수 평균값 93.92 이상인 행 출력\n",
    "finalDF.filter(finalDF.cnt > 93.92).show()"
   ]
  },
  {
   "cell_type": "code",
   "execution_count": 22,
   "id": "21bb0d3a-5d54-4fda-acbd-656fb6d00249",
   "metadata": {},
   "outputs": [
    {
     "name": "stdout",
     "output_type": "stream",
     "text": [
      "+--------+---+-----+------+\n",
      "|  region|cnt|death|injury|\n",
      "+--------+---+-----+------+\n",
      "|  마포구|119|    0|   208|\n",
      "|  강서구|137|    3|   227|\n",
      "|영등포구|146|    6|   226|\n",
      "|  서초구|165|    1|   299|\n",
      "|  강남구|368|    1|   601|\n",
      "|  송파구|155|    1|   262|\n",
      "+--------+---+-----+------+\n",
      "\n"
     ]
    }
   ],
   "source": [
    "# filter 함수로 사고건수 93.92 이상 & 부상자수 156.16 이상인 행 출력\n",
    "finalDF.filter((finalDF.cnt > 93.92) & (finalDF.injury > 156.16)).show()"
   ]
  },
  {
   "cell_type": "code",
   "execution_count": 24,
   "id": "0a1bace9-eecc-454f-a75e-41d0aad1d788",
   "metadata": {},
   "outputs": [
    {
     "name": "stdout",
     "output_type": "stream",
     "text": [
      "+--------+--------+----+\n",
      "|자치구명|사고건수|결과|\n",
      "+--------+--------+----+\n",
      "|  종로구|      56| low|\n",
      "|    중구|      45| low|\n",
      "|  용산구|      94|high|\n",
      "|  성동구|      71| low|\n",
      "|  광진구|      66| low|\n",
      "|동대문구|      58| low|\n",
      "|  중랑구|      60| low|\n",
      "|  성북구|      59| low|\n",
      "|  강북구|      42| low|\n",
      "|  도봉구|      40| low|\n",
      "|  노원구|      93| low|\n",
      "|  은평구|      69| low|\n",
      "|서대문구|      56| low|\n",
      "|  마포구|     119|high|\n",
      "|  양천구|      68| low|\n",
      "|  강서구|     137|high|\n",
      "|  구로구|      83| low|\n",
      "|  금천구|      72| low|\n",
      "|영등포구|     146|high|\n",
      "|  동작구|      72| low|\n",
      "|  관악구|      72| low|\n",
      "|  서초구|     165|high|\n",
      "|  강남구|     368|high|\n",
      "|  송파구|     155|high|\n",
      "|  강동구|      82| low|\n",
      "+--------+--------+----+\n",
      "\n"
     ]
    }
   ],
   "source": [
    "from pyspark.sql.functions import when\n",
    "\n",
    "finalDF.select(finalDF.region.alias('자치구명'), finalDF.cnt.alias('사고건수'),\n",
    "               when(finalDF.cnt >= 93.92, 'high').\n",
    "               otherwise('low').alias('결과')).show(30)"
   ]
  },
  {
   "cell_type": "code",
   "execution_count": null,
   "id": "9bc1f541-0b19-4cae-b870-f0a3aad78511",
   "metadata": {},
   "outputs": [],
   "source": []
  }
 ],
 "metadata": {
  "kernelspec": {
   "display_name": "Python 3 (ipykernel)",
   "language": "python",
   "name": "python3"
  },
  "language_info": {
   "codemirror_mode": {
    "name": "ipython",
    "version": 3
   },
   "file_extension": ".py",
   "mimetype": "text/x-python",
   "name": "python",
   "nbconvert_exporter": "python",
   "pygments_lexer": "ipython3",
   "version": "3.11.4"
  }
 },
 "nbformat": 4,
 "nbformat_minor": 5
}
